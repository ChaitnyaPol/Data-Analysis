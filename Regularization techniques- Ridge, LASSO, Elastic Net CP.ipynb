{
 "cells": [
  {
   "cell_type": "code",
   "execution_count": 11,
   "metadata": {},
   "outputs": [],
   "source": [
    "import pandas as pd\n",
    "import matplotlib.pyplot as plt\n",
    "import numpy as np\n",
    "import seaborn as sns\n",
    "from sklearn.linear_model import LinearRegression\n",
    "from sklearn.linear_model import Ridge\n",
    "from sklearn.linear_model import Lasso\n",
    "from sklearn.linear_model import ElasticNet\n",
    "from sklearn.metrics import mean_squared_error"
   ]
  },
  {
   "cell_type": "code",
   "execution_count": 12,
   "metadata": {},
   "outputs": [],
   "source": [
    "df1=pd.read_csv(\"House price.csv\")"
   ]
  },
  {
   "cell_type": "code",
   "execution_count": 13,
   "metadata": {},
   "outputs": [
    {
     "data": {
      "text/html": [
       "<div>\n",
       "<style scoped>\n",
       "    .dataframe tbody tr th:only-of-type {\n",
       "        vertical-align: middle;\n",
       "    }\n",
       "\n",
       "    .dataframe tbody tr th {\n",
       "        vertical-align: top;\n",
       "    }\n",
       "\n",
       "    .dataframe thead th {\n",
       "        text-align: right;\n",
       "    }\n",
       "</style>\n",
       "<table border=\"1\" class=\"dataframe\">\n",
       "  <thead>\n",
       "    <tr style=\"text-align: right;\">\n",
       "      <th></th>\n",
       "      <th>POSTED_BY</th>\n",
       "      <th>UNDER_CONSTRUCTION</th>\n",
       "      <th>RERA</th>\n",
       "      <th>BHK_NO.</th>\n",
       "      <th>BHK_OR_RK</th>\n",
       "      <th>SQUARE_FT</th>\n",
       "      <th>READY_TO_MOVE</th>\n",
       "      <th>RESALE</th>\n",
       "      <th>ADDRESS</th>\n",
       "      <th>LONGITUDE</th>\n",
       "      <th>LATITUDE</th>\n",
       "      <th>TARGET(PRICE_IN_LACS)</th>\n",
       "    </tr>\n",
       "  </thead>\n",
       "  <tbody>\n",
       "    <tr>\n",
       "      <th>0</th>\n",
       "      <td>Owner</td>\n",
       "      <td>0</td>\n",
       "      <td>0</td>\n",
       "      <td>2</td>\n",
       "      <td>BHK</td>\n",
       "      <td>1300.236407</td>\n",
       "      <td>1</td>\n",
       "      <td>1</td>\n",
       "      <td>Ksfc Layout,Bangalore</td>\n",
       "      <td>12.969910</td>\n",
       "      <td>77.597960</td>\n",
       "      <td>55.0</td>\n",
       "    </tr>\n",
       "    <tr>\n",
       "      <th>1</th>\n",
       "      <td>Dealer</td>\n",
       "      <td>0</td>\n",
       "      <td>0</td>\n",
       "      <td>2</td>\n",
       "      <td>BHK</td>\n",
       "      <td>1275.000000</td>\n",
       "      <td>1</td>\n",
       "      <td>1</td>\n",
       "      <td>Vishweshwara Nagar,Mysore</td>\n",
       "      <td>12.274538</td>\n",
       "      <td>76.644605</td>\n",
       "      <td>51.0</td>\n",
       "    </tr>\n",
       "    <tr>\n",
       "      <th>2</th>\n",
       "      <td>Owner</td>\n",
       "      <td>0</td>\n",
       "      <td>0</td>\n",
       "      <td>2</td>\n",
       "      <td>BHK</td>\n",
       "      <td>933.159722</td>\n",
       "      <td>1</td>\n",
       "      <td>1</td>\n",
       "      <td>Jigani,Bangalore</td>\n",
       "      <td>12.778033</td>\n",
       "      <td>77.632191</td>\n",
       "      <td>43.0</td>\n",
       "    </tr>\n",
       "    <tr>\n",
       "      <th>3</th>\n",
       "      <td>Owner</td>\n",
       "      <td>0</td>\n",
       "      <td>1</td>\n",
       "      <td>2</td>\n",
       "      <td>BHK</td>\n",
       "      <td>929.921143</td>\n",
       "      <td>1</td>\n",
       "      <td>1</td>\n",
       "      <td>Sector-1 Vaishali,Ghaziabad</td>\n",
       "      <td>28.642300</td>\n",
       "      <td>77.344500</td>\n",
       "      <td>62.5</td>\n",
       "    </tr>\n",
       "    <tr>\n",
       "      <th>4</th>\n",
       "      <td>Dealer</td>\n",
       "      <td>1</td>\n",
       "      <td>0</td>\n",
       "      <td>2</td>\n",
       "      <td>BHK</td>\n",
       "      <td>999.009247</td>\n",
       "      <td>0</td>\n",
       "      <td>1</td>\n",
       "      <td>New Town,Kolkata</td>\n",
       "      <td>22.592200</td>\n",
       "      <td>88.484911</td>\n",
       "      <td>60.5</td>\n",
       "    </tr>\n",
       "  </tbody>\n",
       "</table>\n",
       "</div>"
      ],
      "text/plain": [
       "  POSTED_BY  UNDER_CONSTRUCTION  RERA  BHK_NO. BHK_OR_RK    SQUARE_FT  \\\n",
       "0     Owner                   0     0        2       BHK  1300.236407   \n",
       "1    Dealer                   0     0        2       BHK  1275.000000   \n",
       "2     Owner                   0     0        2       BHK   933.159722   \n",
       "3     Owner                   0     1        2       BHK   929.921143   \n",
       "4    Dealer                   1     0        2       BHK   999.009247   \n",
       "\n",
       "   READY_TO_MOVE  RESALE                      ADDRESS  LONGITUDE   LATITUDE  \\\n",
       "0              1       1        Ksfc Layout,Bangalore  12.969910  77.597960   \n",
       "1              1       1    Vishweshwara Nagar,Mysore  12.274538  76.644605   \n",
       "2              1       1             Jigani,Bangalore  12.778033  77.632191   \n",
       "3              1       1  Sector-1 Vaishali,Ghaziabad  28.642300  77.344500   \n",
       "4              0       1             New Town,Kolkata  22.592200  88.484911   \n",
       "\n",
       "   TARGET(PRICE_IN_LACS)  \n",
       "0                   55.0  \n",
       "1                   51.0  \n",
       "2                   43.0  \n",
       "3                   62.5  \n",
       "4                   60.5  "
      ]
     },
     "execution_count": 13,
     "metadata": {},
     "output_type": "execute_result"
    }
   ],
   "source": [
    "df1.head()"
   ]
  },
  {
   "cell_type": "code",
   "execution_count": 14,
   "metadata": {},
   "outputs": [],
   "source": [
    "del df1[\"ADDRESS\"]\n"
   ]
  },
  {
   "cell_type": "code",
   "execution_count": 15,
   "metadata": {},
   "outputs": [],
   "source": [
    "from sklearn.preprocessing import LabelEncoder\n",
    "L=LabelEncoder()\n",
    "df1[\"POSTED_BY\"]=L.fit_transform(df1[\"POSTED_BY\"])\n",
    "df1[\"BHK_OR_RK\"]=L.fit_transform(df1[\"BHK_OR_RK\"])"
   ]
  },
  {
   "cell_type": "code",
   "execution_count": 21,
   "metadata": {},
   "outputs": [
    {
     "data": {
      "text/html": [
       "<div>\n",
       "<style scoped>\n",
       "    .dataframe tbody tr th:only-of-type {\n",
       "        vertical-align: middle;\n",
       "    }\n",
       "\n",
       "    .dataframe tbody tr th {\n",
       "        vertical-align: top;\n",
       "    }\n",
       "\n",
       "    .dataframe thead th {\n",
       "        text-align: right;\n",
       "    }\n",
       "</style>\n",
       "<table border=\"1\" class=\"dataframe\">\n",
       "  <thead>\n",
       "    <tr style=\"text-align: right;\">\n",
       "      <th></th>\n",
       "      <th>POSTED_BY</th>\n",
       "      <th>UNDER_CONSTRUCTION</th>\n",
       "      <th>RERA</th>\n",
       "      <th>BHK_NO.</th>\n",
       "      <th>BHK_OR_RK</th>\n",
       "      <th>SQUARE_FT</th>\n",
       "      <th>READY_TO_MOVE</th>\n",
       "      <th>RESALE</th>\n",
       "      <th>LONGITUDE</th>\n",
       "      <th>LATITUDE</th>\n",
       "      <th>TARGET(PRICE_IN_LACS)</th>\n",
       "    </tr>\n",
       "  </thead>\n",
       "  <tbody>\n",
       "    <tr>\n",
       "      <th>count</th>\n",
       "      <td>29451.000000</td>\n",
       "      <td>29451.000000</td>\n",
       "      <td>29451.000000</td>\n",
       "      <td>29451.000000</td>\n",
       "      <td>29451.000000</td>\n",
       "      <td>2.945100e+04</td>\n",
       "      <td>29451.000000</td>\n",
       "      <td>29451.000000</td>\n",
       "      <td>29451.000000</td>\n",
       "      <td>29451.000000</td>\n",
       "      <td>29451.000000</td>\n",
       "    </tr>\n",
       "    <tr>\n",
       "      <th>mean</th>\n",
       "      <td>1.336695</td>\n",
       "      <td>0.179756</td>\n",
       "      <td>0.317918</td>\n",
       "      <td>2.392279</td>\n",
       "      <td>0.000815</td>\n",
       "      <td>1.980217e+04</td>\n",
       "      <td>0.820244</td>\n",
       "      <td>0.929578</td>\n",
       "      <td>21.300255</td>\n",
       "      <td>76.837695</td>\n",
       "      <td>142.898746</td>\n",
       "    </tr>\n",
       "    <tr>\n",
       "      <th>std</th>\n",
       "      <td>0.515345</td>\n",
       "      <td>0.383991</td>\n",
       "      <td>0.465675</td>\n",
       "      <td>0.879091</td>\n",
       "      <td>0.028536</td>\n",
       "      <td>1.901335e+06</td>\n",
       "      <td>0.383991</td>\n",
       "      <td>0.255861</td>\n",
       "      <td>6.205306</td>\n",
       "      <td>10.557747</td>\n",
       "      <td>656.880713</td>\n",
       "    </tr>\n",
       "    <tr>\n",
       "      <th>min</th>\n",
       "      <td>0.000000</td>\n",
       "      <td>0.000000</td>\n",
       "      <td>0.000000</td>\n",
       "      <td>1.000000</td>\n",
       "      <td>0.000000</td>\n",
       "      <td>3.000000e+00</td>\n",
       "      <td>0.000000</td>\n",
       "      <td>0.000000</td>\n",
       "      <td>-37.713008</td>\n",
       "      <td>-121.761248</td>\n",
       "      <td>0.250000</td>\n",
       "    </tr>\n",
       "    <tr>\n",
       "      <th>25%</th>\n",
       "      <td>1.000000</td>\n",
       "      <td>0.000000</td>\n",
       "      <td>0.000000</td>\n",
       "      <td>2.000000</td>\n",
       "      <td>0.000000</td>\n",
       "      <td>9.000211e+02</td>\n",
       "      <td>1.000000</td>\n",
       "      <td>1.000000</td>\n",
       "      <td>18.452663</td>\n",
       "      <td>73.798100</td>\n",
       "      <td>38.000000</td>\n",
       "    </tr>\n",
       "    <tr>\n",
       "      <th>50%</th>\n",
       "      <td>1.000000</td>\n",
       "      <td>0.000000</td>\n",
       "      <td>0.000000</td>\n",
       "      <td>2.000000</td>\n",
       "      <td>0.000000</td>\n",
       "      <td>1.175057e+03</td>\n",
       "      <td>1.000000</td>\n",
       "      <td>1.000000</td>\n",
       "      <td>20.750000</td>\n",
       "      <td>77.324137</td>\n",
       "      <td>62.000000</td>\n",
       "    </tr>\n",
       "    <tr>\n",
       "      <th>75%</th>\n",
       "      <td>2.000000</td>\n",
       "      <td>0.000000</td>\n",
       "      <td>1.000000</td>\n",
       "      <td>3.000000</td>\n",
       "      <td>0.000000</td>\n",
       "      <td>1.550688e+03</td>\n",
       "      <td>1.000000</td>\n",
       "      <td>1.000000</td>\n",
       "      <td>26.900926</td>\n",
       "      <td>77.828740</td>\n",
       "      <td>100.000000</td>\n",
       "    </tr>\n",
       "    <tr>\n",
       "      <th>max</th>\n",
       "      <td>2.000000</td>\n",
       "      <td>1.000000</td>\n",
       "      <td>1.000000</td>\n",
       "      <td>20.000000</td>\n",
       "      <td>1.000000</td>\n",
       "      <td>2.545455e+08</td>\n",
       "      <td>1.000000</td>\n",
       "      <td>1.000000</td>\n",
       "      <td>59.912884</td>\n",
       "      <td>152.962676</td>\n",
       "      <td>30000.000000</td>\n",
       "    </tr>\n",
       "  </tbody>\n",
       "</table>\n",
       "</div>"
      ],
      "text/plain": [
       "          POSTED_BY  UNDER_CONSTRUCTION          RERA       BHK_NO.  \\\n",
       "count  29451.000000        29451.000000  29451.000000  29451.000000   \n",
       "mean       1.336695            0.179756      0.317918      2.392279   \n",
       "std        0.515345            0.383991      0.465675      0.879091   \n",
       "min        0.000000            0.000000      0.000000      1.000000   \n",
       "25%        1.000000            0.000000      0.000000      2.000000   \n",
       "50%        1.000000            0.000000      0.000000      2.000000   \n",
       "75%        2.000000            0.000000      1.000000      3.000000   \n",
       "max        2.000000            1.000000      1.000000     20.000000   \n",
       "\n",
       "          BHK_OR_RK     SQUARE_FT  READY_TO_MOVE        RESALE     LONGITUDE  \\\n",
       "count  29451.000000  2.945100e+04   29451.000000  29451.000000  29451.000000   \n",
       "mean       0.000815  1.980217e+04       0.820244      0.929578     21.300255   \n",
       "std        0.028536  1.901335e+06       0.383991      0.255861      6.205306   \n",
       "min        0.000000  3.000000e+00       0.000000      0.000000    -37.713008   \n",
       "25%        0.000000  9.000211e+02       1.000000      1.000000     18.452663   \n",
       "50%        0.000000  1.175057e+03       1.000000      1.000000     20.750000   \n",
       "75%        0.000000  1.550688e+03       1.000000      1.000000     26.900926   \n",
       "max        1.000000  2.545455e+08       1.000000      1.000000     59.912884   \n",
       "\n",
       "           LATITUDE  TARGET(PRICE_IN_LACS)  \n",
       "count  29451.000000           29451.000000  \n",
       "mean      76.837695             142.898746  \n",
       "std       10.557747             656.880713  \n",
       "min     -121.761248               0.250000  \n",
       "25%       73.798100              38.000000  \n",
       "50%       77.324137              62.000000  \n",
       "75%       77.828740             100.000000  \n",
       "max      152.962676           30000.000000  "
      ]
     },
     "execution_count": 21,
     "metadata": {},
     "output_type": "execute_result"
    }
   ],
   "source": [
    "df1.describe()"
   ]
  },
  {
   "cell_type": "markdown",
   "metadata": {},
   "source": [
    "### Splitting data into training and testing data"
   ]
  },
  {
   "cell_type": "code",
   "execution_count": 22,
   "metadata": {
    "scrolled": false
   },
   "outputs": [
    {
     "name": "stdout",
     "output_type": "stream",
     "text": [
      "(20615, 10)\n",
      "(20615,)\n",
      "(8836, 10)\n",
      "(8836,)\n"
     ]
    }
   ],
   "source": [
    "X = df1.drop('TARGET(PRICE_IN_LACS)', axis=1)\n",
    "\n",
    "y = df1['TARGET(PRICE_IN_LACS)']\n",
    "\n",
    "from sklearn import preprocessing\n",
    "\n",
    "X = preprocessing.scale(X)\n",
    "\n",
    "y = preprocessing.scale(y)\n",
    "\n",
    "from sklearn.model_selection import train_test_split\n",
    "\n",
    "X_train, X_test, y_train, y_test = train_test_split(X, y, test_size=0.30, random_state=1)\n",
    "\n",
    "print(X_train.shape)\n",
    "\n",
    "print(y_train.shape)\n",
    "\n",
    "print(X_test.shape)\n",
    "\n",
    "print(y_test.shape)"
   ]
  },
  {
   "cell_type": "markdown",
   "metadata": {},
   "source": [
    "preprocessing.scale(X)\n",
    "\n",
    "The preprocessing.scale() algorithm puts your data on one scale. This is helpful with largely sparse datasets. In simple words, your data is vastly spread out. For example the values of X maybe like so:\n",
    "\n",
    "X = [1, 4, 400, 10000, 100000]\n",
    "\n",
    "The issue with sparsity is that it very biased or in statistical terms skewed. So, therefore, scaling the data brings all your values onto one scale eliminating the sparsity.\n",
    "\n",
    "Scaling the data brings all your values onto one scale eliminating the sparsity and it follows the same concept of Normalization and Standardization. To see the effect, you can call describe on the dataframe before and after processing:"
   ]
  },
  {
   "cell_type": "code",
   "execution_count": 23,
   "metadata": {},
   "outputs": [
    {
     "data": {
      "text/html": [
       "<div>\n",
       "<style scoped>\n",
       "    .dataframe tbody tr th:only-of-type {\n",
       "        vertical-align: middle;\n",
       "    }\n",
       "\n",
       "    .dataframe tbody tr th {\n",
       "        vertical-align: top;\n",
       "    }\n",
       "\n",
       "    .dataframe thead th {\n",
       "        text-align: right;\n",
       "    }\n",
       "</style>\n",
       "<table border=\"1\" class=\"dataframe\">\n",
       "  <thead>\n",
       "    <tr style=\"text-align: right;\">\n",
       "      <th></th>\n",
       "      <th>0</th>\n",
       "      <th>1</th>\n",
       "      <th>2</th>\n",
       "      <th>3</th>\n",
       "      <th>4</th>\n",
       "      <th>5</th>\n",
       "      <th>6</th>\n",
       "      <th>7</th>\n",
       "      <th>8</th>\n",
       "      <th>9</th>\n",
       "    </tr>\n",
       "  </thead>\n",
       "  <tbody>\n",
       "    <tr>\n",
       "      <th>count</th>\n",
       "      <td>2.945100e+04</td>\n",
       "      <td>2.945100e+04</td>\n",
       "      <td>2.945100e+04</td>\n",
       "      <td>2.945100e+04</td>\n",
       "      <td>2.945100e+04</td>\n",
       "      <td>2.945100e+04</td>\n",
       "      <td>2.945100e+04</td>\n",
       "      <td>2.945100e+04</td>\n",
       "      <td>2.945100e+04</td>\n",
       "      <td>2.945100e+04</td>\n",
       "    </tr>\n",
       "    <tr>\n",
       "      <th>mean</th>\n",
       "      <td>-1.868504e-16</td>\n",
       "      <td>1.230345e-15</td>\n",
       "      <td>-8.324844e-16</td>\n",
       "      <td>7.632948e-16</td>\n",
       "      <td>-2.001121e-15</td>\n",
       "      <td>-6.428272e-18</td>\n",
       "      <td>-1.077694e-15</td>\n",
       "      <td>-2.948569e-16</td>\n",
       "      <td>-2.664784e-16</td>\n",
       "      <td>-3.874146e-16</td>\n",
       "    </tr>\n",
       "    <tr>\n",
       "      <th>std</th>\n",
       "      <td>1.000017e+00</td>\n",
       "      <td>1.000017e+00</td>\n",
       "      <td>1.000017e+00</td>\n",
       "      <td>1.000017e+00</td>\n",
       "      <td>1.000017e+00</td>\n",
       "      <td>1.000017e+00</td>\n",
       "      <td>1.000017e+00</td>\n",
       "      <td>1.000017e+00</td>\n",
       "      <td>1.000017e+00</td>\n",
       "      <td>1.000017e+00</td>\n",
       "    </tr>\n",
       "    <tr>\n",
       "      <th>min</th>\n",
       "      <td>-2.593832e+00</td>\n",
       "      <td>-4.681343e-01</td>\n",
       "      <td>-6.827146e-01</td>\n",
       "      <td>-1.583797e+00</td>\n",
       "      <td>-2.855832e-02</td>\n",
       "      <td>-1.041348e-02</td>\n",
       "      <td>-2.136139e+00</td>\n",
       "      <td>-3.633194e+00</td>\n",
       "      <td>-9.510290e+00</td>\n",
       "      <td>-1.881105e+01</td>\n",
       "    </tr>\n",
       "    <tr>\n",
       "      <th>25%</th>\n",
       "      <td>-6.533503e-01</td>\n",
       "      <td>-4.681343e-01</td>\n",
       "      <td>-6.827146e-01</td>\n",
       "      <td>-4.462396e-01</td>\n",
       "      <td>-2.855832e-02</td>\n",
       "      <td>-9.941684e-03</td>\n",
       "      <td>4.681343e-01</td>\n",
       "      <td>2.752399e-01</td>\n",
       "      <td>-4.589041e-01</td>\n",
       "      <td>-2.879068e-01</td>\n",
       "    </tr>\n",
       "    <tr>\n",
       "      <th>50%</th>\n",
       "      <td>-6.533503e-01</td>\n",
       "      <td>-4.681343e-01</td>\n",
       "      <td>-6.827146e-01</td>\n",
       "      <td>-4.462396e-01</td>\n",
       "      <td>-2.855832e-02</td>\n",
       "      <td>-9.797027e-03</td>\n",
       "      <td>4.681343e-01</td>\n",
       "      <td>2.752399e-01</td>\n",
       "      <td>-8.867644e-02</td>\n",
       "      <td>4.607517e-02</td>\n",
       "    </tr>\n",
       "    <tr>\n",
       "      <th>75%</th>\n",
       "      <td>1.287132e+00</td>\n",
       "      <td>-4.681343e-01</td>\n",
       "      <td>1.464741e+00</td>\n",
       "      <td>6.913180e-01</td>\n",
       "      <td>-2.855832e-02</td>\n",
       "      <td>-9.599462e-03</td>\n",
       "      <td>4.681343e-01</td>\n",
       "      <td>2.752399e-01</td>\n",
       "      <td>9.025768e-01</td>\n",
       "      <td>9.387051e-02</td>\n",
       "    </tr>\n",
       "    <tr>\n",
       "      <th>max</th>\n",
       "      <td>1.287132e+00</td>\n",
       "      <td>2.136139e+00</td>\n",
       "      <td>1.464741e+00</td>\n",
       "      <td>2.002980e+01</td>\n",
       "      <td>3.501607e+01</td>\n",
       "      <td>1.338691e+02</td>\n",
       "      <td>4.681343e-01</td>\n",
       "      <td>2.752399e-01</td>\n",
       "      <td>6.222623e+00</td>\n",
       "      <td>7.210466e+00</td>\n",
       "    </tr>\n",
       "  </tbody>\n",
       "</table>\n",
       "</div>"
      ],
      "text/plain": [
       "                  0             1             2             3             4  \\\n",
       "count  2.945100e+04  2.945100e+04  2.945100e+04  2.945100e+04  2.945100e+04   \n",
       "mean  -1.868504e-16  1.230345e-15 -8.324844e-16  7.632948e-16 -2.001121e-15   \n",
       "std    1.000017e+00  1.000017e+00  1.000017e+00  1.000017e+00  1.000017e+00   \n",
       "min   -2.593832e+00 -4.681343e-01 -6.827146e-01 -1.583797e+00 -2.855832e-02   \n",
       "25%   -6.533503e-01 -4.681343e-01 -6.827146e-01 -4.462396e-01 -2.855832e-02   \n",
       "50%   -6.533503e-01 -4.681343e-01 -6.827146e-01 -4.462396e-01 -2.855832e-02   \n",
       "75%    1.287132e+00 -4.681343e-01  1.464741e+00  6.913180e-01 -2.855832e-02   \n",
       "max    1.287132e+00  2.136139e+00  1.464741e+00  2.002980e+01  3.501607e+01   \n",
       "\n",
       "                  5             6             7             8             9  \n",
       "count  2.945100e+04  2.945100e+04  2.945100e+04  2.945100e+04  2.945100e+04  \n",
       "mean  -6.428272e-18 -1.077694e-15 -2.948569e-16 -2.664784e-16 -3.874146e-16  \n",
       "std    1.000017e+00  1.000017e+00  1.000017e+00  1.000017e+00  1.000017e+00  \n",
       "min   -1.041348e-02 -2.136139e+00 -3.633194e+00 -9.510290e+00 -1.881105e+01  \n",
       "25%   -9.941684e-03  4.681343e-01  2.752399e-01 -4.589041e-01 -2.879068e-01  \n",
       "50%   -9.797027e-03  4.681343e-01  2.752399e-01 -8.867644e-02  4.607517e-02  \n",
       "75%   -9.599462e-03  4.681343e-01  2.752399e-01  9.025768e-01  9.387051e-02  \n",
       "max    1.338691e+02  4.681343e-01  2.752399e-01  6.222623e+00  7.210466e+00  "
      ]
     },
     "execution_count": 23,
     "metadata": {},
     "output_type": "execute_result"
    }
   ],
   "source": [
    "#with X is already pre-proccessed \n",
    "df2 = pd.DataFrame(X)\n",
    "df2.describe()"
   ]
  },
  {
   "cell_type": "code",
   "execution_count": 24,
   "metadata": {},
   "outputs": [
    {
     "data": {
      "text/html": [
       "<style>#sk-container-id-1 {color: black;background-color: white;}#sk-container-id-1 pre{padding: 0;}#sk-container-id-1 div.sk-toggleable {background-color: white;}#sk-container-id-1 label.sk-toggleable__label {cursor: pointer;display: block;width: 100%;margin-bottom: 0;padding: 0.3em;box-sizing: border-box;text-align: center;}#sk-container-id-1 label.sk-toggleable__label-arrow:before {content: \"▸\";float: left;margin-right: 0.25em;color: #696969;}#sk-container-id-1 label.sk-toggleable__label-arrow:hover:before {color: black;}#sk-container-id-1 div.sk-estimator:hover label.sk-toggleable__label-arrow:before {color: black;}#sk-container-id-1 div.sk-toggleable__content {max-height: 0;max-width: 0;overflow: hidden;text-align: left;background-color: #f0f8ff;}#sk-container-id-1 div.sk-toggleable__content pre {margin: 0.2em;color: black;border-radius: 0.25em;background-color: #f0f8ff;}#sk-container-id-1 input.sk-toggleable__control:checked~div.sk-toggleable__content {max-height: 200px;max-width: 100%;overflow: auto;}#sk-container-id-1 input.sk-toggleable__control:checked~label.sk-toggleable__label-arrow:before {content: \"▾\";}#sk-container-id-1 div.sk-estimator input.sk-toggleable__control:checked~label.sk-toggleable__label {background-color: #d4ebff;}#sk-container-id-1 div.sk-label input.sk-toggleable__control:checked~label.sk-toggleable__label {background-color: #d4ebff;}#sk-container-id-1 input.sk-hidden--visually {border: 0;clip: rect(1px 1px 1px 1px);clip: rect(1px, 1px, 1px, 1px);height: 1px;margin: -1px;overflow: hidden;padding: 0;position: absolute;width: 1px;}#sk-container-id-1 div.sk-estimator {font-family: monospace;background-color: #f0f8ff;border: 1px dotted black;border-radius: 0.25em;box-sizing: border-box;margin-bottom: 0.5em;}#sk-container-id-1 div.sk-estimator:hover {background-color: #d4ebff;}#sk-container-id-1 div.sk-parallel-item::after {content: \"\";width: 100%;border-bottom: 1px solid gray;flex-grow: 1;}#sk-container-id-1 div.sk-label:hover label.sk-toggleable__label {background-color: #d4ebff;}#sk-container-id-1 div.sk-serial::before {content: \"\";position: absolute;border-left: 1px solid gray;box-sizing: border-box;top: 0;bottom: 0;left: 50%;z-index: 0;}#sk-container-id-1 div.sk-serial {display: flex;flex-direction: column;align-items: center;background-color: white;padding-right: 0.2em;padding-left: 0.2em;position: relative;}#sk-container-id-1 div.sk-item {position: relative;z-index: 1;}#sk-container-id-1 div.sk-parallel {display: flex;align-items: stretch;justify-content: center;background-color: white;position: relative;}#sk-container-id-1 div.sk-item::before, #sk-container-id-1 div.sk-parallel-item::before {content: \"\";position: absolute;border-left: 1px solid gray;box-sizing: border-box;top: 0;bottom: 0;left: 50%;z-index: -1;}#sk-container-id-1 div.sk-parallel-item {display: flex;flex-direction: column;z-index: 1;position: relative;background-color: white;}#sk-container-id-1 div.sk-parallel-item:first-child::after {align-self: flex-end;width: 50%;}#sk-container-id-1 div.sk-parallel-item:last-child::after {align-self: flex-start;width: 50%;}#sk-container-id-1 div.sk-parallel-item:only-child::after {width: 0;}#sk-container-id-1 div.sk-dashed-wrapped {border: 1px dashed gray;margin: 0 0.4em 0.5em 0.4em;box-sizing: border-box;padding-bottom: 0.4em;background-color: white;}#sk-container-id-1 div.sk-label label {font-family: monospace;font-weight: bold;display: inline-block;line-height: 1.2em;}#sk-container-id-1 div.sk-label-container {text-align: center;}#sk-container-id-1 div.sk-container {/* jupyter's `normalize.less` sets `[hidden] { display: none; }` but bootstrap.min.css set `[hidden] { display: none !important; }` so we also need the `!important` here to be able to override the default hidden behavior on the sphinx rendered scikit-learn.org. See: https://github.com/scikit-learn/scikit-learn/issues/21755 */display: inline-block !important;position: relative;}#sk-container-id-1 div.sk-text-repr-fallback {display: none;}</style><div id=\"sk-container-id-1\" class=\"sk-top-container\"><div class=\"sk-text-repr-fallback\"><pre>LinearRegression()</pre><b>In a Jupyter environment, please rerun this cell to show the HTML representation or trust the notebook. <br />On GitHub, the HTML representation is unable to render, please try loading this page with nbviewer.org.</b></div><div class=\"sk-container\" hidden><div class=\"sk-item\"><div class=\"sk-estimator sk-toggleable\"><input class=\"sk-toggleable__control sk-hidden--visually\" id=\"sk-estimator-id-1\" type=\"checkbox\" checked><label for=\"sk-estimator-id-1\" class=\"sk-toggleable__label sk-toggleable__label-arrow\">LinearRegression</label><div class=\"sk-toggleable__content\"><pre>LinearRegression()</pre></div></div></div></div></div>"
      ],
      "text/plain": [
       "LinearRegression()"
      ]
     },
     "execution_count": 24,
     "metadata": {},
     "output_type": "execute_result"
    }
   ],
   "source": [
    "regression_model = LinearRegression()\n",
    "\n",
    "regression_model.fit(X_train, y_train)"
   ]
  },
  {
   "cell_type": "code",
   "execution_count": 25,
   "metadata": {},
   "outputs": [
    {
     "name": "stdout",
     "output_type": "stream",
     "text": [
      "Ridge model: [-0.02263379 -0.00818622  0.01567621  0.11464842 -0.00253179  0.36908736\n",
      "  0.00818622 -0.19608263 -0.03745911 -0.02427292]\n"
     ]
    }
   ],
   "source": [
    "ridge = Ridge(alpha=.3)\n",
    "\n",
    "ridge.fit(X_train,y_train)\n",
    "\n",
    "print (\"Ridge model:\", (ridge.coef_))"
   ]
  },
  {
   "cell_type": "markdown",
   "metadata": {},
   "source": [
    "### The optimization objective for Ridge is:\n",
    "||y - Xw||^2_2 + alpha * ||w||^2_2"
   ]
  },
  {
   "cell_type": "code",
   "execution_count": 26,
   "metadata": {},
   "outputs": [
    {
     "name": "stdout",
     "output_type": "stream",
     "text": [
      "Lasso model: [-0.          0.          0.          0.0130055  -0.          0.29530184\n",
      " -0.         -0.10428456 -0.         -0.        ]\n"
     ]
    }
   ],
   "source": [
    "lasso = Lasso(alpha=0.1)\n",
    "\n",
    "lasso.fit(X_train,y_train)\n",
    "\n",
    "print (\"Lasso model:\", (lasso.coef_))"
   ]
  },
  {
   "cell_type": "markdown",
   "metadata": {},
   "source": [
    "### The optimization objective for Lasso is:\n",
    "(1 / (2 n_samples)) ||y - Xw||^2_2 + alpha * ||w||_1"
   ]
  },
  {
   "cell_type": "markdown",
   "metadata": {},
   "source": [
    "### Result on Train and Test Dataset"
   ]
  },
  {
   "cell_type": "code",
   "execution_count": 28,
   "metadata": {},
   "outputs": [
    {
     "name": "stdout",
     "output_type": "stream",
     "text": [
      "Linear Regression Model Training Score:  24.03210157664898\n",
      "Linear Regression Model Testing Score:  17.061421311765613\n",
      "Ridge Regression Model Training Score:  24.035675945602787\n",
      "Ridge Regression Model Testing Score:  17.058170177880704\n",
      "Lasso Regression Model Training Score:  21.058380153243473\n",
      "Lasso Regression Model Testing Score:  12.811630633525573\n"
     ]
    }
   ],
   "source": [
    "print(\"Linear Regression Model Training Score: \", regression_model.score(X_train, y_train)*100)\n",
    "\n",
    "print(\"Linear Regression Model Testing Score: \",regression_model.score(X_test, y_test)*100)\n",
    "\n",
    "print(\"Ridge Regression Model Training Score: \",ridge.score(X_train, y_train)*100)\n",
    "\n",
    "print(\"Ridge Regression Model Testing Score: \",ridge.score(X_test, y_test)*100)\n",
    "\n",
    "print(\"Lasso Regression Model Training Score: \",lasso.score(X_train, y_train)*100)\n",
    "\n",
    "print(\"Lasso Regression Model Testing Score: \",lasso.score(X_test, y_test)*100)"
   ]
  },
  {
   "cell_type": "code",
   "execution_count": 29,
   "metadata": {},
   "outputs": [
    {
     "name": "stdout",
     "output_type": "stream",
     "text": [
      "Linear Regression Model Coefficient : [-2.05837651e-02 -6.45941334e+12  1.54409967e-02  1.14195756e-01\n",
      " -2.89677996e-03  3.69338610e-01 -6.45941334e+12 -1.95263226e-01\n",
      " -3.67627007e-02 -2.29062123e-02]\n",
      "Ridge Regression Model Coefficient : [-0.02263379 -0.00818622  0.01567621  0.11464842 -0.00253179  0.36908736\n",
      "  0.00818622 -0.19608263 -0.03745911 -0.02427292]\n",
      "Lasso Regression Model Coefficient : [-0.          0.          0.          0.0130055  -0.          0.29530184\n",
      " -0.         -0.10428456 -0.         -0.        ]\n"
     ]
    }
   ],
   "source": [
    "print(\"Linear Regression Model Coefficient :\",regression_model.coef_)\n",
    "print(\"Ridge Regression Model Coefficient :\",ridge.coef_)\n",
    "print(\"Lasso Regression Model Coefficient :\",lasso.coef_)"
   ]
  },
  {
   "cell_type": "markdown",
   "metadata": {},
   "source": [
    "###  Fitting Polynomial Regression"
   ]
  },
  {
   "cell_type": "code",
   "execution_count": 30,
   "metadata": {},
   "outputs": [
    {
     "name": "stdout",
     "output_type": "stream",
     "text": [
      "-8622565.086718624\n"
     ]
    }
   ],
   "source": [
    "from sklearn.preprocessing import PolynomialFeatures\n",
    "\n",
    "poly = PolynomialFeatures(degree = 2, interaction_only=True)\n",
    "\n",
    "X_poly = poly.fit_transform(X)\n",
    "\n",
    "X_train, X_test, y_train, y_test = train_test_split(X_poly, y, test_size=0.30, random_state=1)\n",
    "\n",
    "regression_model.fit(X_train, y_train)\n",
    "\n",
    "print(regression_model.coef_[0])"
   ]
  },
  {
   "cell_type": "code",
   "execution_count": 31,
   "metadata": {},
   "outputs": [
    {
     "name": "stdout",
     "output_type": "stream",
     "text": [
      "Ridge model: [ 0.00000000e+00 -3.50686956e-02  1.66652396e-02  9.15820363e-02\n",
      " -1.67701242e-02 -2.47101327e-03  2.25423517e+01 -1.66652396e-02\n",
      " -4.96215196e-01 -8.81532551e-02 -1.50496256e-01  3.28905469e-04\n",
      "  9.33078195e-03 -6.11753081e-02 -7.77070725e-03  6.00780764e-02\n",
      " -3.28905473e-04 -5.35348631e-02  1.20626113e-02  1.23379797e-02\n",
      "  1.29954069e-03 -7.40918561e-03 -2.82972609e-04  4.58950247e+00\n",
      " -2.77976996e-02  5.21638256e-03  1.94408800e-04  3.66112322e-03\n",
      " -1.75389571e-02 -3.84218824e-04  9.12900487e+00 -1.29954069e-03\n",
      " -1.59535794e-02 -4.66444162e-03 -1.98278789e-02  4.39251046e-03\n",
      " -1.14278183e+01  7.40918560e-03  5.58204867e-02 -2.51927678e-02\n",
      " -2.00963121e-02 -6.44456262e-01  2.82972609e-04  3.94037950e-03\n",
      "  1.16854253e-03 -2.44221274e-03 -4.58950247e+00 -4.12326290e+01\n",
      " -6.20927020e+00 -7.94059177e+00 -5.21638254e-03 -1.94408800e-04\n",
      " -3.66112322e-03 -3.84051630e-03  2.58861837e-03  1.48040427e-02]\n"
     ]
    }
   ],
   "source": [
    "ridge = Ridge(alpha=.3)\n",
    "\n",
    "ridge.fit(X_train,y_train)\n",
    "\n",
    "print (\"Ridge model:\", (ridge.coef_))"
   ]
  },
  {
   "cell_type": "code",
   "execution_count": 32,
   "metadata": {},
   "outputs": [
    {
     "name": "stdout",
     "output_type": "stream",
     "text": [
      "Lasso model: [ 0.00000000e+00 -2.99364586e-02 -0.00000000e+00  4.38628186e-03\n",
      "  9.65248186e-02  0.00000000e+00  1.33097992e+00  0.00000000e+00\n",
      " -4.46134412e-01 -8.05564405e-02 -5.44043729e-02  2.16659470e-04\n",
      "  6.42300982e-03 -5.60581288e-02 -0.00000000e+00 -6.98956879e-02\n",
      " -3.03132418e-03 -6.75416147e-02  1.46443058e-02  1.14011038e-02\n",
      "  0.00000000e+00 -1.03799563e-03 -0.00000000e+00  0.00000000e+00\n",
      "  2.41074605e-03  4.14216388e-03  0.00000000e+00  0.00000000e+00\n",
      " -1.29715626e-02 -0.00000000e+00  0.00000000e+00 -0.00000000e+00\n",
      " -2.68826570e-02 -1.13403772e-03 -6.77222396e-03 -0.00000000e+00\n",
      "  0.00000000e+00  1.71255526e-04  2.49617957e-02 -1.64980809e-02\n",
      " -1.38509197e-02 -0.00000000e+00  0.00000000e+00  1.37201919e-03\n",
      "  0.00000000e+00  0.00000000e+00 -0.00000000e+00 -2.99832699e+01\n",
      " -5.49242221e+00  0.00000000e+00 -0.00000000e+00 -0.00000000e+00\n",
      " -0.00000000e+00  1.29708462e-03 -0.00000000e+00  1.09332671e-02]\n"
     ]
    },
    {
     "name": "stderr",
     "output_type": "stream",
     "text": [
      "C:\\Users\\comp\\anaconda3\\lib\\site-packages\\sklearn\\linear_model\\_coordinate_descent.py:648: ConvergenceWarning: Objective did not converge. You might want to increase the number of iterations, check the scale of the features or consider increasing regularisation. Duality gap: 3.938e+02, tolerance: 2.062e+00\n",
      "  model = cd_fast.enet_coordinate_descent(\n"
     ]
    }
   ],
   "source": [
    "lasso = Lasso(alpha=0.003)\n",
    "\n",
    "lasso.fit(X_train,y_train)\n",
    "\n",
    "print (\"Lasso model:\", (lasso.coef_))"
   ]
  },
  {
   "cell_type": "markdown",
   "metadata": {},
   "source": [
    "### Result on Polynomial Transformed Train and Test Dataset"
   ]
  },
  {
   "cell_type": "code",
   "execution_count": 33,
   "metadata": {},
   "outputs": [
    {
     "name": "stdout",
     "output_type": "stream",
     "text": [
      "Linear Regression Model Training Score:  0.8398429813297276\n",
      "Linear Regression Model Testing Score:  -166.13721690630936\n",
      "Ridge Regression Model Training Score:  0.8274644946091977\n",
      "Ridge Regression Model Testing Score:  -34.174343535956794\n",
      "Lasso Regression Model Training Score:  0.7069680245777024\n",
      "Lasso Regression Model Testing Score:  0.6771772158565168\n"
     ]
    }
   ],
   "source": [
    "print(\"Linear Regression Model Training Score: \", regression_model.score(X_train, y_train))\n",
    "\n",
    "print(\"Linear Regression Model Testing Score: \",regression_model.score(X_test, y_test))\n",
    "\n",
    "print(\"Ridge Regression Model Training Score: \",ridge.score(X_train, y_train))\n",
    "\n",
    "print(\"Ridge Regression Model Testing Score: \",ridge.score(X_test, y_test))\n",
    "\n",
    "print(\"Lasso Regression Model Training Score: \",lasso.score(X_train, y_train))\n",
    "\n",
    "print(\"Lasso Regression Model Testing Score: \",lasso.score(X_test, y_test))"
   ]
  },
  {
   "cell_type": "markdown",
   "metadata": {},
   "source": [
    "print(\"Linear Regression Model Coefficient :\",regression_model.coef_)\n",
    "print(\"Ridge Regression Model Coefficient :\",ridge.coef_)\n",
    "print(\"Lasso Regression Model Coefficient :\",lasso.coef_)"
   ]
  },
  {
   "cell_type": "markdown",
   "metadata": {},
   "source": [
    "### Elastic Net"
   ]
  },
  {
   "cell_type": "code",
   "execution_count": 34,
   "metadata": {
    "scrolled": true
   },
   "outputs": [
    {
     "name": "stderr",
     "output_type": "stream",
     "text": [
      "C:\\Users\\comp\\anaconda3\\lib\\site-packages\\sklearn\\linear_model\\_base.py:148: FutureWarning: 'normalize' was deprecated in version 1.0 and will be removed in 1.2. Please leave the normalize parameter to its default value to silence this warning. The default behavior of this estimator is to not do any normalization. If normalization is needed please use sklearn.preprocessing.StandardScaler instead.\n",
      "  warnings.warn(\n"
     ]
    },
    {
     "data": {
      "text/plain": [
       "0.19927758587379774"
      ]
     },
     "execution_count": 34,
     "metadata": {},
     "output_type": "execute_result"
    }
   ],
   "source": [
    "from sklearn.linear_model import ElasticNet\n",
    "\n",
    "ENreg = ElasticNet(alpha=0.5, l1_ratio=0.2, normalize=False)\n",
    "\n",
    "ENreg.fit(X_train,y_train)\n",
    "\n",
    "pred_cv = ENreg.predict(X_train)\n",
    "\n",
    "\n",
    "ENreg.score(X_train,y_train)"
   ]
  },
  {
   "cell_type": "markdown",
   "metadata": {},
   "source": [
    "Cross-validation with ElasticNetCV\n",
    "\n",
    "ElasticNetCV is a cross-validation class that can search multiple alpha values and applies the best one. We'll define the model with alphas value and fit it with xtrain and ytrain data."
   ]
  },
  {
   "cell_type": "code",
   "execution_count": 35,
   "metadata": {},
   "outputs": [],
   "source": [
    "from sklearn.linear_model import ElasticNet,ElasticNetCV"
   ]
  },
  {
   "cell_type": "code",
   "execution_count": 36,
   "metadata": {},
   "outputs": [],
   "source": [
    "#To figure out what alpha value is good for our model, we'll define multiple values and check the performance accuracy.\n",
    "\n",
    "alphas = [0.0001, 0.001, 0.01, 0.1, 0.3, 0.5, 0.7, 1]"
   ]
  },
  {
   "cell_type": "code",
   "execution_count": 37,
   "metadata": {},
   "outputs": [
    {
     "name": "stderr",
     "output_type": "stream",
     "text": [
      "C:\\Users\\comp\\anaconda3\\lib\\site-packages\\sklearn\\linear_model\\_coordinate_descent.py:634: ConvergenceWarning: Objective did not converge. You might want to increase the number of iterations. Duality gap: 3084.8074216522355, tolerance: 1.6476078248994204\n",
      "  model = cd_fast.enet_coordinate_descent_gram(\n",
      "C:\\Users\\comp\\anaconda3\\lib\\site-packages\\sklearn\\linear_model\\_coordinate_descent.py:634: ConvergenceWarning: Objective did not converge. You might want to increase the number of iterations. Duality gap: 2216.7102689338294, tolerance: 1.6476078248994204\n",
      "  model = cd_fast.enet_coordinate_descent_gram(\n",
      "C:\\Users\\comp\\anaconda3\\lib\\site-packages\\sklearn\\linear_model\\_coordinate_descent.py:634: ConvergenceWarning: Objective did not converge. You might want to increase the number of iterations. Duality gap: 3447.9026555515547, tolerance: 1.7619905088965262\n",
      "  model = cd_fast.enet_coordinate_descent_gram(\n",
      "C:\\Users\\comp\\anaconda3\\lib\\site-packages\\sklearn\\linear_model\\_coordinate_descent.py:634: ConvergenceWarning: Objective did not converge. You might want to increase the number of iterations. Duality gap: 2582.675799430533, tolerance: 1.7619905088965262\n",
      "  model = cd_fast.enet_coordinate_descent_gram(\n",
      "C:\\Users\\comp\\anaconda3\\lib\\site-packages\\sklearn\\linear_model\\_coordinate_descent.py:634: ConvergenceWarning: Objective did not converge. You might want to increase the number of iterations. Duality gap: 2214.7166814089587, tolerance: 1.5510365217748412\n",
      "  model = cd_fast.enet_coordinate_descent_gram(\n",
      "C:\\Users\\comp\\anaconda3\\lib\\site-packages\\sklearn\\linear_model\\_coordinate_descent.py:634: ConvergenceWarning: Objective did not converge. You might want to increase the number of iterations. Duality gap: 2200.6211749104195, tolerance: 1.5510365217748412\n",
      "  model = cd_fast.enet_coordinate_descent_gram(\n",
      "C:\\Users\\comp\\anaconda3\\lib\\site-packages\\sklearn\\linear_model\\_coordinate_descent.py:634: ConvergenceWarning: Objective did not converge. You might want to increase the number of iterations. Duality gap: 3024.86964571953, tolerance: 1.655547786608982\n",
      "  model = cd_fast.enet_coordinate_descent_gram(\n",
      "C:\\Users\\comp\\anaconda3\\lib\\site-packages\\sklearn\\linear_model\\_coordinate_descent.py:634: ConvergenceWarning: Objective did not converge. You might want to increase the number of iterations. Duality gap: 2370.563959523848, tolerance: 1.655547786608982\n",
      "  model = cd_fast.enet_coordinate_descent_gram(\n",
      "C:\\Users\\comp\\anaconda3\\lib\\site-packages\\sklearn\\linear_model\\_coordinate_descent.py:634: ConvergenceWarning: Objective did not converge. You might want to increase the number of iterations. Duality gap: 3331.061344503609, tolerance: 1.6318479056501565\n",
      "  model = cd_fast.enet_coordinate_descent_gram(\n",
      "C:\\Users\\comp\\anaconda3\\lib\\site-packages\\sklearn\\linear_model\\_coordinate_descent.py:634: ConvergenceWarning: Objective did not converge. You might want to increase the number of iterations. Duality gap: 2512.6896623771604, tolerance: 1.6318479056501565\n",
      "  model = cd_fast.enet_coordinate_descent_gram(\n"
     ]
    },
    {
     "name": "stdout",
     "output_type": "stream",
     "text": [
      "0.01\n",
      "0.026528212204603687\n"
     ]
    }
   ],
   "source": [
    "elastic_cv=ElasticNetCV(alphas=alphas, cv=5)\n",
    "model = elastic_cv.fit(X_train, y_train)\n",
    "print(model.alpha_)\n",
    "print(model.intercept_)"
   ]
  },
  {
   "cell_type": "code",
   "execution_count": 38,
   "metadata": {},
   "outputs": [
    {
     "name": "stdout",
     "output_type": "stream",
     "text": [
      "Alpha:0.0001, R2:0.22, MSE:0.78, RMSE:0.88\n",
      "Alpha:0.0010, R2:0.22, MSE:0.78, RMSE:0.88\n",
      "Alpha:0.0100, R2:0.22, MSE:0.78, RMSE:0.88\n",
      "Alpha:0.1000, R2:0.21, MSE:0.79, RMSE:0.89\n",
      "Alpha:0.3000, R2:0.15, MSE:0.85, RMSE:0.92\n",
      "Alpha:0.5000, R2:0.08, MSE:0.92, RMSE:0.96\n",
      "Alpha:0.7000, R2:0.03, MSE:0.97, RMSE:0.98\n",
      "Alpha:1.0000, R2:0.00, MSE:1.00, RMSE:1.00\n"
     ]
    }
   ],
   "source": [
    "#we'll check the R-squared, MSE, and RMSE metrics for each alpha.\n",
    "\n",
    "for a in alphas:\n",
    "    model = ElasticNet(alpha=a).fit(X,y)   \n",
    "    score = model.score(X, y)\n",
    "    pred_y = model.predict(X)\n",
    "    mse = mean_squared_error(y, pred_y)   \n",
    "    print(\"Alpha:{0:.4f}, R2:{1:.2f}, MSE:{2:.2f}, RMSE:{3:.2f}\"\n",
    "       .format(a, score, mse, np.sqrt(mse)))"
   ]
  },
  {
   "cell_type": "code",
   "execution_count": null,
   "metadata": {},
   "outputs": [],
   "source": []
  }
 ],
 "metadata": {
  "kernelspec": {
   "display_name": "Python 3 (ipykernel)",
   "language": "python",
   "name": "python3"
  },
  "language_info": {
   "codemirror_mode": {
    "name": "ipython",
    "version": 3
   },
   "file_extension": ".py",
   "mimetype": "text/x-python",
   "name": "python",
   "nbconvert_exporter": "python",
   "pygments_lexer": "ipython3",
   "version": "3.9.13"
  }
 },
 "nbformat": 4,
 "nbformat_minor": 4
}
